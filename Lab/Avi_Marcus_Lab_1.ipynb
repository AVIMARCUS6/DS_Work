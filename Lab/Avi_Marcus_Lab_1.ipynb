{
 "cells": [
  {
   "cell_type": "markdown",
   "metadata": {},
   "source": [
    "### 1. Extracting Our Data from an API"
   ]
  },
  {
   "cell_type": "markdown",
   "metadata": {},
   "source": [
    "Now Max's Wine Dive is a restaurant with multiple locations in Texas.\n",
    "\n",
    "Let's try to see what information we can find on the Max's by using the Texas's Open Data API. Navigating to the Mixed Beverage Receipts data we see that we can search for specific restaurants using the location_name parameter. Let's do that below"
   ]
  },
  {
   "cell_type": "code",
   "execution_count": 152,
   "metadata": {},
   "outputs": [],
   "source": [
    "url = \"https://data.texas.gov/resource/naix-2893.json?location_name=MAX%27S%20WINE%20DIVE\""
   ]
  },
  {
   "cell_type": "markdown",
   "metadata": {},
   "source": [
    "Use the url above to make a request to the API, and store the json results as restaurant_receipts."
   ]
  },
  {
   "cell_type": "code",
   "execution_count": 153,
   "metadata": {},
   "outputs": [],
   "source": [
    "import requests\n",
    "response = requests.get(url)\n",
    "restaurant_receipts = response.json()"
   ]
  },
  {
   "cell_type": "code",
   "execution_count": 154,
   "metadata": {},
   "outputs": [
    {
     "data": {
      "text/plain": [
       "61"
      ]
     },
     "execution_count": 154,
     "metadata": {},
     "output_type": "execute_result"
    }
   ],
   "source": [
    "len(restaurant_receipts)"
   ]
  },
  {
   "cell_type": "markdown",
   "metadata": {},
   "source": [
    "### 2. Understanding What's Returned"
   ]
  },
  {
   "cell_type": "code",
   "execution_count": 330,
   "metadata": {},
   "outputs": [
    {
     "data": {
      "text/plain": [
       "{'taxpayer_number': '12727298569',\n",
       " 'taxpayer_name': 'MWD AUSTIN DOWNTOWN, LLC',\n",
       " 'taxpayer_address': '7026 OLD KATY RD STE 255',\n",
       " 'taxpayer_city': 'HOUSTON',\n",
       " 'taxpayer_state': 'TX',\n",
       " 'taxpayer_zip': '77024',\n",
       " 'taxpayer_county': '101',\n",
       " 'location_number': '1',\n",
       " 'location_name': \"MAX'S WINE DIVE\",\n",
       " 'location_address': '207 SAN JACINTO BLVD STE 200',\n",
       " 'location_city': 'AUSTIN',\n",
       " 'location_state': 'TX',\n",
       " 'location_zip': '78701',\n",
       " 'location_county': '227',\n",
       " 'inside_outside_city_limits_code_y_n': 'Y',\n",
       " 'tabc_permit_number': 'MB944126',\n",
       " 'responsibility_begin_date_yyyymmdd': '2016-05-13T00:00:00.000',\n",
       " 'obligation_end_date_yyyymmdd': '2016-09-30T00:00:00.000',\n",
       " 'liquor_receipts': '18265',\n",
       " 'wine_receipts': '71497',\n",
       " 'beer_receipts': '10606',\n",
       " 'cover_charge_receipts': '0',\n",
       " 'total_receipts': '100368'}"
      ]
     },
     "execution_count": 330,
     "metadata": {},
     "output_type": "execute_result"
    }
   ],
   "source": [
    "first_receipt = restaurant_receipts[0]\n",
    "first_receipt"
   ]
  },
  {
   "cell_type": "code",
   "execution_count": 327,
   "metadata": {},
   "outputs": [],
   "source": [
    "# creates list of all location addresses\n",
    "location_addresses = []\n",
    "\n",
    "for rest_data in restaurant_receipts:\n",
    "    address = rest_data['location_address']\n",
    "    location_addresses.append(address)"
   ]
  },
  {
   "cell_type": "code",
   "execution_count": 328,
   "metadata": {},
   "outputs": [
    {
     "data": {
      "text/plain": [
       "{'207 SAN JACINTO BLVD STE 200', '3600 MCKINNEY AVE STE 100'}"
      ]
     },
     "execution_count": 328,
     "metadata": {},
     "output_type": "execute_result"
    }
   ],
   "source": [
    "set(location_addresses)"
   ]
  },
  {
   "cell_type": "code",
   "execution_count": 329,
   "metadata": {},
   "outputs": [],
   "source": [
    "# creates list of dict of all location addresses\n",
    "location_addresses = requests.get(\"https://data.texas.gov/resource/naix-2893.json?location_name=MAX%27S%20WINE%20DIVE&$select=location_address\").json()\n",
    "#location_addresses"
   ]
  },
  {
   "cell_type": "markdown",
   "metadata": {},
   "source": [
    "***"
   ]
  },
  {
   "cell_type": "markdown",
   "metadata": {},
   "source": [
    "### 3. Reduce Our Data (Transform)"
   ]
  },
  {
   "cell_type": "markdown",
   "metadata": {},
   "source": [
    "#### A. Reduce the number of items"
   ]
  },
  {
   "cell_type": "code",
   "execution_count": 325,
   "metadata": {},
   "outputs": [],
   "source": [
    "dallas_maxs = requests.get(\"https://data.texas.gov/resource/naix-2893.json?location_address=3600 MCKINNEY AVE STE 100\").json()"
   ]
  },
  {
   "cell_type": "code",
   "execution_count": 331,
   "metadata": {},
   "outputs": [
    {
     "data": {
      "text/plain": [
       "'3600 MCKINNEY AVE STE 100'"
      ]
     },
     "execution_count": 331,
     "metadata": {},
     "output_type": "execute_result"
    }
   ],
   "source": [
    "dallas_maxs[0]['location_address']"
   ]
  },
  {
   "cell_type": "markdown",
   "metadata": {},
   "source": [
    "#### B. Reduce the amount of data per item"
   ]
  },
  {
   "cell_type": "markdown",
   "metadata": {},
   "source": [
    "Ok, so now that we have cut the number of items in half, let's also limit the amount of information in each item. Let's start by remembering what information contained in each dictionary. An easy way to do so is to use the keys method on our dictionary."
   ]
  },
  {
   "cell_type": "code",
   "execution_count": 177,
   "metadata": {},
   "outputs": [
    {
     "data": {
      "text/plain": [
       "dict_keys(['taxpayer_number', 'taxpayer_name', 'taxpayer_address', 'taxpayer_city', 'taxpayer_state', 'taxpayer_zip', 'taxpayer_county', 'location_number', 'location_name', 'location_address', 'location_city', 'location_state', 'location_zip', 'location_county', 'inside_outside_city_limits_code_y_n', 'tabc_permit_number', 'responsibility_begin_date_yyyymmdd', 'responsibility_end_date_yyyymmdd', 'obligation_end_date_yyyymmdd', 'liquor_receipts', 'wine_receipts', 'beer_receipts', 'cover_charge_receipts', 'total_receipts'])"
      ]
     },
     "execution_count": 177,
     "metadata": {},
     "output_type": "execute_result"
    }
   ],
   "source": [
    "first_dallas_receipt = dallas_maxs[0]\n",
    "first_dallas_receipt.keys()"
   ]
  },
  {
   "cell_type": "markdown",
   "metadata": {},
   "source": [
    "Ok, so we can see that a lot of information is here. Let's reduce our information by only including the total_receipts, the responsibility_begin_date_yyyymmdd and the obligation_end_date_yyyymmdd."
   ]
  },
  {
   "cell_type": "code",
   "execution_count": 335,
   "metadata": {},
   "outputs": [
    {
     "data": {
      "text/plain": [
       "25"
      ]
     },
     "execution_count": 335,
     "metadata": {},
     "output_type": "execute_result"
    }
   ],
   "source": [
    "# reduce information to only include the 'total_receipts', 'responsibility_begin_date_yyyymmdd' and 'obligation_end_date_yyyymmdd'\n",
    "restaurant_revenues = requests.get(\"https://data.texas.gov/resource/naix-2893.json?location_address=3600 MCKINNEY AVE STE 100&$select=total_receipts,responsibility_begin_date_yyyymmdd,obligation_end_date_yyyymmdd\").json()\n",
    "\n",
    "len(restaurant_revenues)\n"
   ]
  },
  {
   "cell_type": "code",
   "execution_count": 336,
   "metadata": {},
   "outputs": [
    {
     "data": {
      "text/plain": [
       "[{'total_receipts': '56182',\n",
       "  'responsibility_begin_date_yyyymmdd': '2015-08-11T00:00:00.000',\n",
       "  'obligation_end_date_yyyymmdd': '2016-12-31T00:00:00.000'},\n",
       " {'total_receipts': '9400',\n",
       "  'responsibility_begin_date_yyyymmdd': '2015-08-11T00:00:00.000',\n",
       "  'obligation_end_date_yyyymmdd': '2017-08-31T00:00:00.000'}]"
      ]
     },
     "execution_count": 336,
     "metadata": {},
     "output_type": "execute_result"
    }
   ],
   "source": [
    "restaurant_revenues[0:2]"
   ]
  },
  {
   "cell_type": "markdown",
   "metadata": {},
   "source": [
    "Now looking at the first two elements we see that the end date seems to proceed monthly but that begin_date is always May 13 2016. It seems like this just marks the first time that Max's needed to submit information. We don't need to know this, so let's remove it from our list."
   ]
  },
  {
   "cell_type": "code",
   "execution_count": 337,
   "metadata": {},
   "outputs": [
    {
     "data": {
      "text/plain": [
       "25"
      ]
     },
     "execution_count": 337,
     "metadata": {},
     "output_type": "execute_result"
    }
   ],
   "source": [
    "revenues_by_date = requests.get(\"https://data.texas.gov/resource/naix-2893.json?location_address=3600 MCKINNEY AVE STE 100&$select=total_receipts,obligation_end_date_yyyymmdd\").json()\n",
    "\n",
    "\n",
    "len(revenues_by_date)\n",
    "# 25"
   ]
  },
  {
   "cell_type": "code",
   "execution_count": 338,
   "metadata": {},
   "outputs": [
    {
     "data": {
      "text/plain": [
       "[{'total_receipts': '56182',\n",
       "  'obligation_end_date_yyyymmdd': '2016-12-31T00:00:00.000'},\n",
       " {'total_receipts': '9400',\n",
       "  'obligation_end_date_yyyymmdd': '2017-08-31T00:00:00.000'}]"
      ]
     },
     "execution_count": 338,
     "metadata": {},
     "output_type": "execute_result"
    }
   ],
   "source": [
    "revenues_by_date[0:2]"
   ]
  },
  {
   "cell_type": "markdown",
   "metadata": {},
   "source": [
    "***"
   ]
  },
  {
   "cell_type": "markdown",
   "metadata": {},
   "source": [
    "### 4. Coerce the data (Still Transform)"
   ]
  },
  {
   "cell_type": "markdown",
   "metadata": {},
   "source": [
    "Our final step will be to coerce our data to the correct format. We'd like total receipts to be an integer and we'd like the begin date to be of type datetime.\n",
    "\n",
    "This is a little tricky so let's do it with dictionary first object first."
   ]
  },
  {
   "cell_type": "code",
   "execution_count": 343,
   "metadata": {},
   "outputs": [
    {
     "data": {
      "text/plain": [
       "{'total_receipts': '56182',\n",
       " 'obligation_end_date_yyyymmdd': '2016-12-31T00:00:00.000'}"
      ]
     },
     "execution_count": 343,
     "metadata": {},
     "output_type": "execute_result"
    }
   ],
   "source": [
    "first_rev_by_date = revenues_by_date[0]\n",
    "first_rev_by_date"
   ]
  },
  {
   "cell_type": "markdown",
   "metadata": {},
   "source": [
    "We can go from a string to an integer by using the int function. The int function is called a constructor because it's used to construct integers. We can use it so long as we pass in a string that can be changed to an integer."
   ]
  },
  {
   "cell_type": "code",
   "execution_count": 344,
   "metadata": {},
   "outputs": [
    {
     "data": {
      "text/plain": [
       "56182"
      ]
     },
     "execution_count": 344,
     "metadata": {},
     "output_type": "execute_result"
    }
   ],
   "source": [
    "int(first_rev_by_date['total_receipts'])"
   ]
  },
  {
   "cell_type": "markdown",
   "metadata": {},
   "source": [
    "Ok, now let's coerce the string into a datetime. First we ask the great oracle Google how we can convert a string into a datetime. Then we follow the directions in the search results. One of those results says we can convert with somthing like the following."
   ]
  },
  {
   "cell_type": "code",
   "execution_count": 341,
   "metadata": {},
   "outputs": [
    {
     "data": {
      "text/plain": [
       "datetime.datetime(2011, 1, 3, 0, 0)"
      ]
     },
     "execution_count": 341,
     "metadata": {},
     "output_type": "execute_result"
    }
   ],
   "source": [
    "from datetime import datetime\n",
    "start = '2011-01-03'\n",
    "datetime.strptime(start, '%Y-%m-%d')"
   ]
  },
  {
   "cell_type": "markdown",
   "metadata": {},
   "source": [
    "That gets us part of the way, but our date information includes information about minutes or seconds. So we can either remove that ending data, or we can do some more searching on Google. We go for the searching on Google and wind up with the following."
   ]
  },
  {
   "cell_type": "code",
   "execution_count": 346,
   "metadata": {},
   "outputs": [
    {
     "data": {
      "text/plain": [
       "datetime.datetime(2016, 12, 31, 0, 0)"
      ]
     },
     "execution_count": 346,
     "metadata": {},
     "output_type": "execute_result"
    }
   ],
   "source": [
    "from datetime import datetime\n",
    "end_date = first_rev_by_date['obligation_end_date_yyyymmdd']\n",
    "datetime.strptime(end_date, '%Y-%m-%dT%H:%M:%S.%f')"
   ]
  },
  {
   "cell_type": "markdown",
   "metadata": {},
   "source": [
    "Ok, now it's that we were able to accomplish this for the attributes of one dictionary, let's use a loop to coerce each dictionary in revenues_by_date."
   ]
  },
  {
   "cell_type": "code",
   "execution_count": 348,
   "metadata": {},
   "outputs": [
    {
     "data": {
      "text/plain": [
       "[{'total_receipts': 56182, 'end_date': '2016-12-31T00:00:00.000'},\n",
       " {'total_receipts': 9400, 'end_date': '2017-08-31T00:00:00.000'}]"
      ]
     },
     "execution_count": 348,
     "metadata": {},
     "output_type": "execute_result"
    }
   ],
   "source": [
    "from datetime import datetime\n",
    "formatted_revenues = []\n",
    "for revenue in revenues_by_date:\n",
    "    total = int(revenue['total_receipts'])\n",
    "    revenue = {\n",
    "        'total_receipts': total,\n",
    "        'end_date': revenue['obligation_end_date_yyyymmdd'],\n",
    "    }\n",
    "    formatted_revenues.append(revenue)\n",
    "formatted_revenues[0:2]"
   ]
  },
  {
   "cell_type": "markdown",
   "metadata": {},
   "source": [
    "### 5. Store our data (Load)"
   ]
  },
  {
   "cell_type": "markdown",
   "metadata": {},
   "source": [
    "Once we have our date in a good format. Let's store that data so that we can use it in some future research. The following code is slightly confusing, but it's also freely available on the Internet. So let's use it to write our data to a file."
   ]
  },
  {
   "cell_type": "code",
   "execution_count": 349,
   "metadata": {},
   "outputs": [],
   "source": [
    "import json\n",
    "with open('maxs_revenues.json', 'w') as filehandle:  \n",
    "    json.dump(formatted_revenues, filehandle)"
   ]
  },
  {
   "cell_type": "markdown",
   "metadata": {},
   "source": [
    "We can eaily check that we stored this data correctly by attempting to read that data."
   ]
  },
  {
   "cell_type": "code",
   "execution_count": 350,
   "metadata": {},
   "outputs": [],
   "source": [
    "with open('maxs_revenues.json') as json_file:  \n",
    "    pulled_revenues = json.load(json_file)\n"
   ]
  },
  {
   "cell_type": "code",
   "execution_count": 351,
   "metadata": {},
   "outputs": [
    {
     "data": {
      "text/plain": [
       "25"
      ]
     },
     "execution_count": 351,
     "metadata": {},
     "output_type": "execute_result"
    }
   ],
   "source": [
    "len(pulled_revenues)"
   ]
  },
  {
   "cell_type": "code",
   "execution_count": 352,
   "metadata": {},
   "outputs": [
    {
     "data": {
      "text/plain": [
       "[{'total_receipts': 56182, 'end_date': '2016-12-31T00:00:00.000'},\n",
       " {'total_receipts': 9400, 'end_date': '2017-08-31T00:00:00.000'}]"
      ]
     },
     "execution_count": 352,
     "metadata": {},
     "output_type": "execute_result"
    }
   ],
   "source": [
    "pulled_revenues[0:2]"
   ]
  },
  {
   "cell_type": "code",
   "execution_count": null,
   "metadata": {},
   "outputs": [],
   "source": []
  }
 ],
 "metadata": {
  "kernelspec": {
   "display_name": "Python 3",
   "language": "python",
   "name": "python3"
  },
  "language_info": {
   "codemirror_mode": {
    "name": "ipython",
    "version": 3
   },
   "file_extension": ".py",
   "mimetype": "text/x-python",
   "name": "python",
   "nbconvert_exporter": "python",
   "pygments_lexer": "ipython3",
   "version": "3.7.1"
  }
 },
 "nbformat": 4,
 "nbformat_minor": 2
}
